{
 "cells": [
  {
   "cell_type": "code",
   "execution_count": 1,
   "metadata": {},
   "outputs": [],
   "source": [
    "import os\n",
    "import numpy as np\n",
    "import scipy\n",
    "import matplotlib.pyplot as plt\n",
    "import pandas as pd\n",
    "from sklearn.linear_model import LinearRegression"
   ]
  },
  {
   "cell_type": "code",
   "execution_count": 2,
   "metadata": {},
   "outputs": [
    {
     "name": "stdout",
     "output_type": "stream",
     "text": [
      "Current Directory: C:\\Users\\abhim\\Documents\\Jupyter Notebooks\\FGDOS Temperature Characterization Testing\\Dummy tests\n",
      "E:\\SPACEFLIGHT TU DELFT\\THESIS\\LUNAR ZEBRO\\Assembly, Integration and Testing\\FGDOS Temperature Characterization Test\\Temp data logging and processing\\Arduino_CSV\\corrected\n"
     ]
    }
   ],
   "source": [
    "print('Current Directory: '+os.getcwd())\n",
    "\n",
    "CSV_path = 'E:\\SPACEFLIGHT TU DELFT\\THESIS\\LUNAR ZEBRO\\Assembly, Integration and Testing\\FGDOS Temperature Characterization Test\\Temp data logging and processing\\Arduino_CSV'\n",
    "CSV_corrected_path = CSV_path + '\\corrected'\n",
    "print(CSV_corrected_path)"
   ]
  },
  {
   "cell_type": "code",
   "execution_count": 4,
   "metadata": {},
   "outputs": [
    {
     "name": "stdout",
     "output_type": "stream",
     "text": [
      "FGDOS_03F_HIGH_TEMP_CHAR_MOCK_Apr_19_17-45-50_s1.csv\n",
      "FGDOS_03F_HIGH_TEMP_CHAR_MOCK_Apr_19_17-45-50_s2.csv\n"
     ]
    }
   ],
   "source": [
    "file_s1 ='FGDOS_03F_HIGH_TEMP_CHAR_MOCK_Apr_19_17-45-50_s1.csv'\n",
    "file_s2 ='FGDOS_03F_HIGH_TEMP_CHAR_MOCK_Apr_19_17-45-50_s2.csv'\n",
    "print(file_s1)\n",
    "print(file_s2)\n",
    "df_s1 = pd.read_csv(r'E:\\SPACEFLIGHT TU DELFT\\THESIS\\LUNAR ZEBRO\\Assembly, Integration and Testing\\FGDOS Temperature Characterization Test\\Temp data logging and processing\\Arduino_CSV\\corrected'+ '\\\\'+ file_s1 ,encoding='ISO-8859-1')\n",
    "df_s2 = pd.read_csv(r'E:\\SPACEFLIGHT TU DELFT\\THESIS\\LUNAR ZEBRO\\Assembly, Integration and Testing\\FGDOS Temperature Characterization Test\\Temp data logging and processing\\Arduino_CSV\\corrected'+ '\\\\'+ file_s2 ,encoding='ISO-8859-1')\n"
   ]
  },
  {
   "cell_type": "code",
   "execution_count": 7,
   "metadata": {},
   "outputs": [
    {
     "data": {
      "text/html": [
       "<div>\n",
       "<style scoped>\n",
       "    .dataframe tbody tr th:only-of-type {\n",
       "        vertical-align: middle;\n",
       "    }\n",
       "\n",
       "    .dataframe tbody tr th {\n",
       "        vertical-align: top;\n",
       "    }\n",
       "\n",
       "    .dataframe thead th {\n",
       "        text-align: right;\n",
       "    }\n",
       "</style>\n",
       "<table border=\"1\" class=\"dataframe\">\n",
       "  <thead>\n",
       "    <tr style=\"text-align: right;\">\n",
       "      <th></th>\n",
       "      <th>Time (ms)</th>\n",
       "      <th>Sensor</th>\n",
       "      <th>Temperature (° C)</th>\n",
       "      <th>Sensor Frequency (Hz)</th>\n",
       "      <th>Reference Frequency (Hz)</th>\n",
       "      <th>Recharge Register</th>\n",
       "      <th>Window Factor</th>\n",
       "      <th>Sensitivity</th>\n",
       "      <th>Passive</th>\n",
       "      <th>Standby</th>\n",
       "      <th>Hot Junction Temperature (C)</th>\n",
       "      <th>Cold Junction Temperature (C)</th>\n",
       "      <th>ADC Value</th>\n",
       "    </tr>\n",
       "  </thead>\n",
       "  <tbody>\n",
       "    <tr>\n",
       "      <th>0</th>\n",
       "      <td>1.0004</td>\n",
       "      <td>2</td>\n",
       "      <td>85</td>\n",
       "      <td>82008</td>\n",
       "      <td>81336</td>\n",
       "      <td>0</td>\n",
       "      <td>7.63</td>\n",
       "      <td>h</td>\n",
       "      <td>0</td>\n",
       "      <td>0</td>\n",
       "      <td>22.56</td>\n",
       "      <td>23.25</td>\n",
       "      <td>-42</td>\n",
       "    </tr>\n",
       "    <tr>\n",
       "      <th>1</th>\n",
       "      <td>1269.4348</td>\n",
       "      <td>2</td>\n",
       "      <td>86</td>\n",
       "      <td>82038</td>\n",
       "      <td>81375</td>\n",
       "      <td>0</td>\n",
       "      <td>7.63</td>\n",
       "      <td>h</td>\n",
       "      <td>0</td>\n",
       "      <td>0</td>\n",
       "      <td>22.56</td>\n",
       "      <td>23.00</td>\n",
       "      <td>-42</td>\n",
       "    </tr>\n",
       "    <tr>\n",
       "      <th>2</th>\n",
       "      <td>2539.0385</td>\n",
       "      <td>2</td>\n",
       "      <td>86</td>\n",
       "      <td>82061</td>\n",
       "      <td>81413</td>\n",
       "      <td>0</td>\n",
       "      <td>7.63</td>\n",
       "      <td>h</td>\n",
       "      <td>0</td>\n",
       "      <td>0</td>\n",
       "      <td>22.56</td>\n",
       "      <td>23.50</td>\n",
       "      <td>-42</td>\n",
       "    </tr>\n",
       "    <tr>\n",
       "      <th>3</th>\n",
       "      <td>3807.6249</td>\n",
       "      <td>2</td>\n",
       "      <td>86</td>\n",
       "      <td>82092</td>\n",
       "      <td>81382</td>\n",
       "      <td>0</td>\n",
       "      <td>7.63</td>\n",
       "      <td>h</td>\n",
       "      <td>0</td>\n",
       "      <td>0</td>\n",
       "      <td>22.56</td>\n",
       "      <td>23.25</td>\n",
       "      <td>-42</td>\n",
       "    </tr>\n",
       "    <tr>\n",
       "      <th>4</th>\n",
       "      <td>5075.7491</td>\n",
       "      <td>2</td>\n",
       "      <td>86</td>\n",
       "      <td>82015</td>\n",
       "      <td>81298</td>\n",
       "      <td>0</td>\n",
       "      <td>7.63</td>\n",
       "      <td>h</td>\n",
       "      <td>0</td>\n",
       "      <td>0</td>\n",
       "      <td>22.56</td>\n",
       "      <td>23.25</td>\n",
       "      <td>-44</td>\n",
       "    </tr>\n",
       "  </tbody>\n",
       "</table>\n",
       "</div>"
      ],
      "text/plain": [
       "   Time (ms)  Sensor  Temperature (° C)  Sensor Frequency (Hz)  \\\n",
       "0     1.0004       2                 85                  82008   \n",
       "1  1269.4348       2                 86                  82038   \n",
       "2  2539.0385       2                 86                  82061   \n",
       "3  3807.6249       2                 86                  82092   \n",
       "4  5075.7491       2                 86                  82015   \n",
       "\n",
       "   Reference Frequency (Hz)  Recharge Register  Window Factor Sensitivity  \\\n",
       "0                     81336                  0           7.63           h   \n",
       "1                     81375                  0           7.63           h   \n",
       "2                     81413                  0           7.63           h   \n",
       "3                     81382                  0           7.63           h   \n",
       "4                     81298                  0           7.63           h   \n",
       "\n",
       "   Passive  Standby  Hot Junction Temperature (C)  \\\n",
       "0        0        0                         22.56   \n",
       "1        0        0                         22.56   \n",
       "2        0        0                         22.56   \n",
       "3        0        0                         22.56   \n",
       "4        0        0                         22.56   \n",
       "\n",
       "   Cold Junction Temperature (C)  ADC Value  \n",
       "0                          23.25        -42  \n",
       "1                          23.00        -42  \n",
       "2                          23.50        -42  \n",
       "3                          23.25        -42  \n",
       "4                          23.25        -44  "
      ]
     },
     "execution_count": 7,
     "metadata": {},
     "output_type": "execute_result"
    }
   ],
   "source": [
    "s1 = df_s1.to_numpy()\n",
    "s2 = df_s2.to_numpy()\n",
    "df_s1.head()\n",
    "df_s2.head()"
   ]
  },
  {
   "cell_type": "code",
   "execution_count": 10,
   "metadata": {},
   "outputs": [
    {
     "data": {
      "text/html": [
       "<div>\n",
       "<style scoped>\n",
       "    .dataframe tbody tr th:only-of-type {\n",
       "        vertical-align: middle;\n",
       "    }\n",
       "\n",
       "    .dataframe tbody tr th {\n",
       "        vertical-align: top;\n",
       "    }\n",
       "\n",
       "    .dataframe thead th {\n",
       "        text-align: right;\n",
       "    }\n",
       "</style>\n",
       "<table border=\"1\" class=\"dataframe\">\n",
       "  <thead>\n",
       "    <tr style=\"text-align: right;\">\n",
       "      <th></th>\n",
       "      <th>Time (ms)</th>\n",
       "      <th>Sensor</th>\n",
       "      <th>Temperature (° C)</th>\n",
       "      <th>Sensor Frequency (Hz)</th>\n",
       "      <th>Reference Frequency (Hz)</th>\n",
       "      <th>Recharge Register</th>\n",
       "      <th>Window Factor</th>\n",
       "      <th>Sensitivity</th>\n",
       "      <th>Passive</th>\n",
       "      <th>Standby</th>\n",
       "      <th>Hot Junction Temperature (C)</th>\n",
       "      <th>Cold Junction Temperature (C)</th>\n",
       "      <th>ADC Value</th>\n",
       "    </tr>\n",
       "  </thead>\n",
       "  <tbody>\n",
       "    <tr>\n",
       "      <th>62</th>\n",
       "      <td>87572.2709</td>\n",
       "      <td>2</td>\n",
       "      <td>86</td>\n",
       "      <td>81771</td>\n",
       "      <td>81100</td>\n",
       "      <td>0</td>\n",
       "      <td>7.63</td>\n",
       "      <td>h</td>\n",
       "      <td>0</td>\n",
       "      <td>0</td>\n",
       "      <td>22.56</td>\n",
       "      <td>23.25</td>\n",
       "      <td>-44</td>\n",
       "    </tr>\n",
       "    <tr>\n",
       "      <th>63</th>\n",
       "      <td>90110.5347</td>\n",
       "      <td>2</td>\n",
       "      <td>86</td>\n",
       "      <td>81756</td>\n",
       "      <td>81108</td>\n",
       "      <td>0</td>\n",
       "      <td>7.63</td>\n",
       "      <td>h</td>\n",
       "      <td>0</td>\n",
       "      <td>0</td>\n",
       "      <td>22.56</td>\n",
       "      <td>23.00</td>\n",
       "      <td>-44</td>\n",
       "    </tr>\n",
       "    <tr>\n",
       "      <th>64</th>\n",
       "      <td>91380.0553</td>\n",
       "      <td>2</td>\n",
       "      <td>86</td>\n",
       "      <td>81771</td>\n",
       "      <td>81100</td>\n",
       "      <td>0</td>\n",
       "      <td>7.63</td>\n",
       "      <td>h</td>\n",
       "      <td>0</td>\n",
       "      <td>0</td>\n",
       "      <td>22.56</td>\n",
       "      <td>23.25</td>\n",
       "      <td>-44</td>\n",
       "    </tr>\n",
       "    <tr>\n",
       "      <th>65</th>\n",
       "      <td>92649.1518</td>\n",
       "      <td>2</td>\n",
       "      <td>86</td>\n",
       "      <td>81810</td>\n",
       "      <td>81108</td>\n",
       "      <td>0</td>\n",
       "      <td>7.63</td>\n",
       "      <td>h</td>\n",
       "      <td>0</td>\n",
       "      <td>0</td>\n",
       "      <td>22.56</td>\n",
       "      <td>23.25</td>\n",
       "      <td>-42</td>\n",
       "    </tr>\n",
       "    <tr>\n",
       "      <th>66</th>\n",
       "      <td>93918.2305</td>\n",
       "      <td>2</td>\n",
       "      <td>86</td>\n",
       "      <td>81794</td>\n",
       "      <td>81108</td>\n",
       "      <td>0</td>\n",
       "      <td>7.63</td>\n",
       "      <td>h</td>\n",
       "      <td>0</td>\n",
       "      <td>0</td>\n",
       "      <td>22.56</td>\n",
       "      <td>23.25</td>\n",
       "      <td>-42</td>\n",
       "    </tr>\n",
       "  </tbody>\n",
       "</table>\n",
       "</div>"
      ],
      "text/plain": [
       "     Time (ms)  Sensor  Temperature (° C)  Sensor Frequency (Hz)  \\\n",
       "62  87572.2709       2                 86                  81771   \n",
       "63  90110.5347       2                 86                  81756   \n",
       "64  91380.0553       2                 86                  81771   \n",
       "65  92649.1518       2                 86                  81810   \n",
       "66  93918.2305       2                 86                  81794   \n",
       "\n",
       "    Reference Frequency (Hz)  Recharge Register  Window Factor Sensitivity  \\\n",
       "62                     81100                  0           7.63           h   \n",
       "63                     81108                  0           7.63           h   \n",
       "64                     81100                  0           7.63           h   \n",
       "65                     81108                  0           7.63           h   \n",
       "66                     81108                  0           7.63           h   \n",
       "\n",
       "    Passive  Standby  Hot Junction Temperature (C)  \\\n",
       "62        0        0                         22.56   \n",
       "63        0        0                         22.56   \n",
       "64        0        0                         22.56   \n",
       "65        0        0                         22.56   \n",
       "66        0        0                         22.56   \n",
       "\n",
       "    Cold Junction Temperature (C)  ADC Value  \n",
       "62                          23.25        -44  \n",
       "63                          23.00        -44  \n",
       "64                          23.25        -44  \n",
       "65                          23.25        -42  \n",
       "66                          23.25        -42  "
      ]
     },
     "execution_count": 10,
     "metadata": {},
     "output_type": "execute_result"
    }
   ],
   "source": [
    "df_s1.tail()\n",
    "df_s2.tail()"
   ]
  },
  {
   "cell_type": "code",
   "execution_count": 12,
   "metadata": {},
   "outputs": [
    {
     "data": {
      "text/plain": [
       "array([[143379.8781, 2, 84, ..., 'h', 0, 0],\n",
       "       [143645.8869, 2, 84, ..., 'h', 0, 0],\n",
       "       [143907.4173, 2, 84, ..., 'h', 0, 0],\n",
       "       ...,\n",
       "       [348007.3237, 2, 85, ..., 'h', 0, 0],\n",
       "       [348269.2464, 2, 85, ..., 'h', 0, 0],\n",
       "       [348666.6585, 2, 85, ..., 'h', 0, 0]], dtype=object)"
      ]
     },
     "execution_count": 12,
     "metadata": {},
     "output_type": "execute_result"
    }
   ],
   "source": [
    "s2[s2[:,3]<90000]"
   ]
  },
  {
   "cell_type": "code",
   "execution_count": 11,
   "metadata": {
    "scrolled": false
   },
   "outputs": [
    {
     "data": {
      "image/png": "[encoded data removed]",
      "text/plain": [
       "<Figure size 1800x900 with 1 Axes>"
      ]
     },
     "metadata": {
      "needs_background": "light"
     },
     "output_type": "display_data"
    }
   ],
   "source": [
    "fig_sen_freq = plt.figure(figsize=(12, 6), dpi=150)\n",
    "plt.scatter(s1[:,0], s1[:,3],s=1, c='r',label = 'Sensor 1')\n",
    "plt.scatter(s2[:,0], s2[:,3],s=1, c='b', label = 'Sensor 2')\n",
    "\n",
    "plt.xlabel('Time (ms)')\n",
    "plt.ylabel('Frequency (Hz)')\n",
    "#plt.xlim(2.6e5,3.3e5)\n",
    "#plt.xlim(ll_2,ul_2)\n",
    "#plt.ylim(2.0e5,2.3e5)\n",
    "plt.legend(loc=\"center left\")\n",
    "plt.title(\"TEMP_CHAR_MOCK: Sensor Frequency vs. Time\")\n",
    "plt.show()"
   ]
  },
  {
   "cell_type": "code",
   "execution_count": 14,
   "metadata": {},
   "outputs": [
    {
     "data": {
      "image/png": "[encoded data removed]",
      "text/plain": [
       "<Figure size 960x400 with 1 Axes>"
      ]
     },
     "metadata": {
      "needs_background": "light"
     },
     "output_type": "display_data"
    },
    {
     "name": "stdout",
     "output_type": "stream",
     "text": [
      "min:  0\n",
      "max:  0\n",
      "range:  0\n",
      "mean:  0.0\n",
      "standard deviation:  0.0\n"
     ]
    }
   ],
   "source": [
    "fig_ref_freq_s1 = plt.figure(figsize=(12, 5), dpi=80)\n",
    "plt.scatter(s1[:,0], s1[:,4],s=1, c='r', label = 'Sensor 1')\n",
    "#plt.scatter(s2[1:,0], s2[1:,4],s=1,label = 'Sensor 2')\n",
    "#plt.plot(B4_PRE_TEST[1:,0], B4_PRE_TEST[1:,4],\"g-\",label = 'Reference frequency')\n",
    "\n",
    "plt.xlabel('Time (s)')\n",
    "plt.ylabel('Reference Frequency (Hz)')\n",
    "plt.legend(loc=\"center left\")\n",
    "plt.title(\"TEMP_CHAR_MOCK: Sensor 1 Reference Frequency vs. Time\")\n",
    "plt.show()\n",
    "print('min: ',s1[:,4].min())\n",
    "print('max: ',s1[:,4].max())\n",
    "print('range: ',s1[:,4].max()-s1[:,4].min())\n",
    "print('mean: ',s1[:,4].mean())\n",
    "print('standard deviation: ',s1[:,4].std())"
   ]
  },
  {
   "cell_type": "code",
   "execution_count": 15,
   "metadata": {},
   "outputs": [
    {
     "data": {
      "image/png": "[encoded data removed]",
      "text/plain": [
       "<Figure size 960x400 with 1 Axes>"
      ]
     },
     "metadata": {
      "needs_background": "light"
     },
     "output_type": "display_data"
    },
    {
     "name": "stdout",
     "output_type": "stream",
     "text": [
      "min:  80833\n",
      "max:  81413\n",
      "range:  580\n",
      "mean:  81118.74626865672\n",
      "standard deviation:  106.32635529049539\n"
     ]
    }
   ],
   "source": [
    "fig_ref_freq_s2 = plt.figure(figsize=(12, 5), dpi=80)\n",
    "plt.scatter(s2[:,0], s2[:,4],s=1, c='b', label = 'Sensor 2')\n",
    "\n",
    "plt.xlabel('Time (s)')\n",
    "plt.ylabel('Reference Frequency (Hz)')\n",
    "plt.legend(loc=\"center left\")\n",
    "plt.title(\"TEMP_CHAR_MOCK: Sensor 2 Reference Frequency vs. Time\")\n",
    "plt.show()\n",
    "\n",
    "print('min: ',s2[:,4].min())\n",
    "print('max: ',s2[:,4].max())\n",
    "print('range: ',s2[:,4].max()-s2[:,4].min())\n",
    "print('mean: ',s2[:,4].mean())\n",
    "print('standard deviation: ',s2[:,4].std())"
   ]
  },
  {
   "cell_type": "code",
   "execution_count": 16,
   "metadata": {},
   "outputs": [
    {
     "data": {
      "image/png": "[encoded data removed]",
      "text/plain": [
       "<Figure size 960x480 with 1 Axes>"
      ]
     },
     "metadata": {
      "needs_background": "light"
     },
     "output_type": "display_data"
    }
   ],
   "source": [
    "fig_temp = plt.figure(figsize=(12, 6), dpi=80)\n",
    "plt.scatter(s1[:,0], s1[:,2],s=1,c='r',label = 'Sensor 1 temperature')\n",
    "plt.scatter(s2[:,0], s2[:,2],s=1,c='b',label = 'Sensor 2 temperature')\n",
    "\n",
    "plt.xlabel('Time (s)')\n",
    "plt.ylabel('Temperature')\n",
    "plt.legend(loc=\"center left\")\n",
    "plt.title(\"TEMP_CHAR_MOCK: Temperature vs. Time\")\n",
    "plt.show()"
   ]
  },
  {
   "cell_type": "code",
   "execution_count": 16,
   "metadata": {},
   "outputs": [
    {
     "data": {
      "text/plain": [
       "(1388,)"
      ]
     },
     "execution_count": 16,
     "metadata": {},
     "output_type": "execute_result"
    }
   ],
   "source": [
    "s1[:,0].shape\n",
    "        "
   ]
  },
  {
   "cell_type": "code",
   "execution_count": 28,
   "metadata": {},
   "outputs": [],
   "source": [
    "#s1[(s1[:,0]> 3e5)]"
   ]
  },
  {
   "cell_type": "code",
   "execution_count": null,
   "metadata": {},
   "outputs": [],
   "source": []
  }
 ],
 "metadata": {
  "kernelspec": {
   "display_name": "Python 3 (ipykernel)",
   "language": "python",
   "name": "python3"
  },
  "language_info": {
   "codemirror_mode": {
    "name": "ipython",
    "version": 3
   },
   "file_extension": ".py",
   "mimetype": "text/x-python",
   "name": "python",
   "nbconvert_exporter": "python",
   "pygments_lexer": "ipython3",
   "version": "3.9.7"
  }
 },
 "nbformat": 4,
 "nbformat_minor": 4
}
